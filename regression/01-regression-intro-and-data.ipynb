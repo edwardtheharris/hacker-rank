{
 "nbformat": 4,
 "nbformat_minor": 2,
 "metadata": {
  "language_info": {
   "name": "python",
   "codemirror_mode": {
    "name": "ipython",
    "version": 3
   },
   "version": "3.7.5"
  },
  "orig_nbformat": 2,
  "file_extension": ".py",
  "mimetype": "text/x-python",
  "name": "python",
  "npconvert_exporter": "python",
  "pygments_lexer": "ipython3",
  "version": 3
 },
 "cells": [
  {
   "cell_type": "code",
   "execution_count": 1,
   "metadata": {},
   "outputs": [
    {
     "name": "stdout",
     "output_type": "stream",
     "text": "Open   High   Low  Close     Volume  Ex-Dividend  Split Ratio  \\\nDate                                                                         \n1986-03-13  25.50  29.25  25.5  28.00  3582600.0          0.0          1.0   \n1986-03-14  28.00  29.50  28.0  29.00  1070000.0          0.0          1.0   \n1986-03-17  29.00  29.75  29.0  29.50   462400.0          0.0          1.0   \n1986-03-18  29.50  29.75  28.5  28.75   235300.0          0.0          1.0   \n1986-03-19  28.75  29.00  28.0  28.25   166300.0          0.0          1.0   \n\n            Adj. Open  Adj. High  Adj. Low  Adj. Close   Adj. Volume  \nDate                                                                  \n1986-03-13   0.058941   0.067609  0.058941    0.064720  1.031789e+09  \n1986-03-14   0.064720   0.068187  0.064720    0.067031  3.081600e+08  \n1986-03-17   0.067031   0.068765  0.067031    0.068187  1.331712e+08  \n1986-03-18   0.068187   0.068765  0.065876    0.066454  6.776640e+07  \n1986-03-19   0.066454   0.067031  0.064720    0.065298  4.789440e+07  \n"
    }
   ],
   "source": [
    "import pandas as pd\n",
    "\n",
    "import quandl\n",
    "\n",
    "df = quandl.get(\"WIKI/MSFT\")\n",
    "\n",
    "print(df.head())"
   ]
  },
  {
   "cell_type": "code",
   "execution_count": null,
   "metadata": {},
   "outputs": [],
   "source": []
  }
 ]
}